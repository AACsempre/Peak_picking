{
 "cells": [
  {
   "cell_type": "code",
   "execution_count": 27,
   "metadata": {},
   "outputs": [],
   "source": [
    "import pandas as pd\n",
    "import numpy as np\n",
    "import csv\n",
    "from scipy.signal import find_peaks\n",
    "from scipy import signal\n"
   ]
  },
  {
   "cell_type": "markdown",
   "metadata": {},
   "source": [
    "## Inputs"
   ]
  },
  {
   "cell_type": "code",
   "execution_count": 28,
   "metadata": {},
   "outputs": [],
   "source": [
    "filepath = 'test_data.csv'\n",
    "h_cor = 3       # Do not consider first h_vor rows (Header)\n",
    "Freq = 100      # Sample Frequency [Hz]\n",
    "freq_r_L = 0.2  # Frequency range Low value [Hz]\n",
    "freq_r_H = 10   # Frequency range High value [Hz]\n",
    "dist = 4        # Min distance between peaks - samples between neighbouring peaks (dist * Freq / n = interval_Hz)\n",
    "limit_frq = 10  # Maximum amount of frequencies to present\n"
   ]
  },
  {
   "cell_type": "markdown",
   "metadata": {},
   "source": [
    "## OPEN ACCELEROGRAMS FILE"
   ]
  },
  {
   "cell_type": "code",
   "execution_count": 29,
   "metadata": {},
   "outputs": [],
   "source": [
    "df0 = []\n",
    "rcsv0 = []\n",
    "try:\n",
    "    ds = open(filepath, 'r', newline='')   \n",
    "    with ds as file:\n",
    "        rcsv = csv.reader(file, delimiter = ',')\n",
    "        for i in range(h_cor):\n",
    "            next(rcsv)     #ignore header\n",
    "        for row in rcsv:\n",
    "            rcsv0.append(pd.to_numeric(row))\n",
    "        df0 = pd.DataFrame(rcsv0) \n",
    "        if len(df0) <= 1:\n",
    "            raise Exception(\"File event with issues - Error: it seems empty\")\n",
    "except Exception as e:  \n",
    "    print(\"Problems opening event file {} - Error: {}\".format(filepath, e))  \n"
   ]
  },
  {
   "cell_type": "markdown",
   "metadata": {},
   "source": [
    "## CALCULATE FFT; FIND PEAKS AND CREATE LIST FILE"
   ]
  },
  {
   "cell_type": "code",
   "execution_count": 30,
   "metadata": {},
   "outputs": [
    {
     "name": "stdout",
     "output_type": "stream",
     "text": [
      "       0       1       2      3       4       5       6       7       8   \\\n",
      "0  38.950  38.950  14.750  1.600   7.950  32.200  16.800  25.450  12.100   \n",
      "1  43.000  16.150   2.600  2.400   3.100  22.600  16.300  19.000  38.950   \n",
      "2   5.200  46.600  13.400   None   3.300  36.400  17.950  19.200  46.600   \n",
      "3   5.650  24.950   4.900   None   8.450   2.000  16.600  24.600   7.800   \n",
      "4  16.150    None  11.500   None  13.250  10.400  18.550  31.300   9.850   \n",
      "5  46.750    None  12.100   None  19.000  14.750  19.100   9.450  10.950   \n",
      "6   8.500    None  16.100   None  23.300  15.850  15.050  12.300  13.400   \n",
      "7  11.850    None  20.150   None  42.300  19.000  15.400  18.150  23.300   \n",
      "8  13.200    None  25.000   None  43.350  23.900  17.000  20.250  43.000   \n",
      "9  22.000    None  38.950   None  44.000  24.450  18.200  23.300   1.300   \n",
      "\n",
      "       9   ...      23      24      25      26      27      28      29  \\\n",
      "0  12.100  ...  38.950  16.100  38.950  38.950  38.950  38.950  38.950   \n",
      "1  38.950  ...   7.600   5.550  16.150   2.600  43.000    None    None   \n",
      "2   9.850  ...  16.850  38.950  21.900   6.950   5.200    None    None   \n",
      "3  26.450  ...   3.550  43.000  23.400  10.650   5.650    None    None   \n",
      "4  32.050  ...   6.900   5.200  23.700   0.300  46.600    None    None   \n",
      "5   9.650  ...   8.800   6.350  24.950   1.050   5.450    None    None   \n",
      "6  38.400  ...  12.100  14.750  46.600   4.050  11.850    None    None   \n",
      "7  46.750  ...   3.050  21.900    None   4.900  22.000    None    None   \n",
      "8   1.600  ...   3.300  46.600    None   8.000   1.750    None    None   \n",
      "9   2.150  ...   4.700   2.000    None  13.800   3.200    None    None   \n",
      "\n",
      "       30      31      32  \n",
      "0  38.950  38.950  38.950  \n",
      "1   5.200  21.900  32.200  \n",
      "2   5.650   5.500  41.150  \n",
      "3  16.150  16.100   8.800  \n",
      "4   6.600  16.650  15.250  \n",
      "5  40.450  32.250  25.500  \n",
      "6   1.600  43.000  40.150  \n",
      "7   4.700   1.350  44.050  \n",
      "8   5.850   4.100  45.500  \n",
      "9   6.900  11.250   0.450  \n",
      "\n",
      "[10 rows x 33 columns]\n"
     ]
    }
   ],
   "source": [
    "df0_col_list = []\n",
    "psd = []\n",
    "for j in range(len(df0.columns)):                                                                                                                               \n",
    "    df0_c = df0.iloc[:,j]\n",
    "    df0_c.reset_index(inplace=True, drop=True)\n",
    "    n = len(df0_c) \n",
    "\n",
    "    # Frequencies\n",
    "    Ts = 1/Freq  \n",
    "    frq = np.fft.fftfreq(n=n, d=Ts)     \n",
    "    frq = frq[range(0,int(n/2))]  \n",
    "    # Peaks limited between min and max pre-defined range\n",
    "    for k in range(len(frq)): \n",
    "        aux_f = float(frq[k])\n",
    "        if (aux_f <= freq_r_L): #range LOW\n",
    "            f_min = k  \n",
    "        if (aux_f <= freq_r_H): #range HIGH\n",
    "            f_max = k   \n",
    "    frq_mm = frq[range(f_min,f_max+1)]                                                  \n",
    "    # Magnitude\n",
    "    Y = np.fft.fft(df0_c)/n      \n",
    "    Y = Y[range(0,int(n/2))]\n",
    "    Y[0] = 0\n",
    "    mY = np.abs(Y)                                    \n",
    "    mY_mm = mY[range(f_min,f_max+1)]  \n",
    "    # Find max peak\n",
    "    peakY = np.max(mY_mm)  #max amplitude\n",
    "    if np.isnan(peakY) == False:\n",
    "        locY = np.where(mY_mm == peakY)[0][0]  #peak location\n",
    "    else:\n",
    "        locY = 0\n",
    "    frqY = []\n",
    "    frqY0 = \"%.3f\" % frq_mm[locY]   #peak frequency value - three decimal places \n",
    "    frqY.append(frqY0)                                                                                       \n",
    "    # Find other peaks\n",
    "    peaks, _ = find_peaks(mY_mm, distance = dist)\n",
    "    aux_p = 0\n",
    "    harm = False\n",
    "    #List of all peaks - importance descending in steps according to p_peak (percentages from main peak)\n",
    "    p_peak = [1,0.9,0.8,0.7,0.6,0.5,0.4,0.3]\n",
    "    for k0 in range(1,len(p_peak)):\n",
    "        for k in range(0,len(peaks)):           \n",
    "            frqYz = \"%.3f\" % frq_mm[peaks[k]]      # Get the actual frequency value  \n",
    "            #if it larger in the next step of importance, and if it is between range LOW and range HIGH\n",
    "            if (mY_mm[peaks[k]] >= p_peak[k0]*peakY and mY_mm[peaks[k]] < p_peak[k0-1]*peakY and float(frqYz) >= freq_r_L and float(frqYz) <= freq_r_H):\n",
    "                #Ignore harmonics and append Frequency value to list\n",
    "                harm = False\n",
    "                for f0 in frqY:\n",
    "                    for hf in range(1,6): #not equal nor one of first 5 harmonics:\n",
    "                        if (float(frqYz) == float(f0)*hf):\n",
    "                            harm = True\n",
    "                if harm == False:        \n",
    "                    aux_p = aux_p + 1\n",
    "                    if aux_p <= limit_frq-1:\n",
    "                        frqY.append(frqYz)                                                \n",
    "    df0_col_list.append(frqY)            \n",
    "\n",
    "df1 = pd.DataFrame(df0_col_list).T\n",
    "print(df1)\n",
    "\n",
    "try:\n",
    "    df1.to_csv('result.csv',index=False) \n",
    "except Exception as e: \n",
    "    print('Problem saving file - Error:', e) \n"
   ]
  }
 ],
 "metadata": {
  "kernelspec": {
   "display_name": "Python 3",
   "language": "python",
   "name": "python3"
  },
  "language_info": {
   "codemirror_mode": {
    "name": "ipython",
    "version": 3
   },
   "file_extension": ".py",
   "mimetype": "text/x-python",
   "name": "python",
   "nbconvert_exporter": "python",
   "pygments_lexer": "ipython3",
   "version": "3.7.7"
  }
 },
 "nbformat": 4,
 "nbformat_minor": 4
}
